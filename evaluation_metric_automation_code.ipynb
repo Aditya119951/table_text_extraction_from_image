{
 "cells": [
  {
   "cell_type": "code",
   "execution_count": 3,
   "id": "43616fa3",
   "metadata": {},
   "outputs": [],
   "source": [
    "import numpy as np\n",
    "import pandas as pd\n",
    "from sklearn.metrics import (\n",
    "    mean_absolute_error,\n",
    "    mean_squared_error,\n",
    "    r2_score,\n",
    "    accuracy_score,\n",
    "    roc_auc_score,\n",
    "    f1_score,\n",
    "    precision_score,\n",
    "    recall_score,\n",
    ")\n",
    "import ipywidgets as widgets\n",
    "from IPython.display import display, clear_output\n",
    "\n",
    "# Initialize global variables\n",
    "result_table = None\n",
    "result_table_widget = None\n",
    "actual_values = None\n",
    "predicted_values = None\n",
    "\n",
    "\n",
    "# Function to reset the result table\n",
    "def reset_table():\n",
    "    global result_table, result_table_widget\n",
    "    result_table = pd.DataFrame(columns=[\"Metric\", \"Value\"])\n",
    "    result_table_widget = widgets.Output()\n",
    "\n",
    "\n",
    "# Functions to calculate metrics and update the table\n",
    "def update_table(metric, value):\n",
    "    global result_table, result_table_widget\n",
    "    result_table = result_table.append({\"Metric\": metric, \"Value\": value}, ignore_index=True)\n",
    "    with result_table_widget:\n",
    "        clear_output(wait=True)\n",
    "        display(result_table)\n",
    "\n",
    "\n",
    "def calculate_regression_metric(metric):\n",
    "    global actual_values, predicted_values\n",
    "    if metric == \"MAE\":\n",
    "        update_table(\"Mean Absolute Error\", mean_absolute_error(actual_values, predicted_values))\n",
    "    elif metric == \"MSE\":\n",
    "        update_table(\"Mean Squared Error\", mean_squared_error(actual_values, predicted_values))\n",
    "    elif metric == \"RMSE\":\n",
    "        update_table(\"Root Mean Squared Error\", np.sqrt(mean_squared_error(actual_values, predicted_values)))\n",
    "    elif metric == \"R2\":\n",
    "        update_table(\"R-Squared\", r2_score(actual_values, predicted_values))\n",
    "    elif metric == \"Adj R2\":\n",
    "        n = len(actual_values)\n",
    "        p = predicted_values.shape[1] if len(predicted_values.shape) > 1 else 1\n",
    "        r2 = r2_score(actual_values, predicted_values)\n",
    "        adj_r2 = 1 - (1 - r2) * (n - 1) / (n - p - 1)\n",
    "        update_table(\"Adjusted R-Squared\", adj_r2)\n",
    "\n",
    "\n",
    "def calculate_classification_metric(metric):\n",
    "    global actual_values, predicted_values\n",
    "    if metric == \"Accuracy\":\n",
    "        update_table(\"Accuracy\", accuracy_score(actual_values, predicted_values))\n",
    "    elif metric == \"AUC\":\n",
    "        update_table(\"AUC-ROC\", roc_auc_score(actual_values, predicted_values))\n",
    "    elif metric == \"F1\":\n",
    "        update_table(\"F1 Score\", f1_score(actual_values, predicted_values))\n",
    "    elif metric == \"Precision\":\n",
    "        update_table(\"Precision\", precision_score(actual_values, predicted_values))\n",
    "    elif metric == \"Recall\":\n",
    "        update_table(\"Recall\", recall_score(actual_values, predicted_values))\n",
    "\n",
    "\n",
    "# Dropdowns for selecting actual and predicted values\n",
    "def setup_dropdowns(df):\n",
    "    actual_dropdown = widgets.Dropdown(\n",
    "        options=df.columns,\n",
    "        description=\"Actual:\",\n",
    "        layout=widgets.Layout(width=\"50%\"),\n",
    "    )\n",
    "    predicted_dropdown = widgets.Dropdown(\n",
    "        options=df.columns,\n",
    "        description=\"Predicted:\",\n",
    "        layout=widgets.Layout(width=\"50%\"),\n",
    "    )\n",
    "\n",
    "    def handle_selection(_):\n",
    "        global actual_values, predicted_values\n",
    "        try:\n",
    "            actual_values = df[actual_dropdown.value].values\n",
    "            predicted_values = df[predicted_dropdown.value].values\n",
    "            display(widgets.HTML(\"<b>Values successfully loaded. You can now calculate metrics.</b>\"))\n",
    "        except Exception as e:\n",
    "            display(widgets.HTML(f\"<b>Error: {str(e)}</b>\"))\n",
    "\n",
    "    load_button = widgets.Button(description=\"Load Values\", button_style=\"success\")\n",
    "    load_button.on_click(handle_selection)\n",
    "\n",
    "    return widgets.VBox([actual_dropdown, predicted_dropdown, load_button])\n",
    "\n",
    "\n",
    "# Metric Button Generators\n",
    "def generate_metric_buttons(metrics, task_type):\n",
    "    buttons = []\n",
    "    for metric, tooltip in metrics.items():\n",
    "        button = widgets.Button(description=metric, tooltip=tooltip, button_style=\"info\")\n",
    "        button.on_click(lambda _, metric=metric: metric_click_handler(metric, task_type))\n",
    "        buttons.append(button)\n",
    "    return widgets.VBox(buttons)\n",
    "\n",
    "\n",
    "# Metric Click Handler\n",
    "def metric_click_handler(metric, task_type):\n",
    "    global actual_values, predicted_values\n",
    "    if actual_values is None or predicted_values is None:\n",
    "        display(widgets.HTML(\"<b>Please select actual and predicted values first!</b>\"))\n",
    "        return\n",
    "    if task_type == \"regression\":\n",
    "        if len(set(actual_values)) > 2:  # Assuming regression has continuous targets\n",
    "            calculate_regression_metric(metric)\n",
    "        else:\n",
    "            display(widgets.HTML(\"<b>These metrics are not applicable to classification problems.</b>\"))\n",
    "    elif task_type == \"classification\":\n",
    "        if len(set(actual_values)) <= 2:  # Assuming classification has binary or discrete targets\n",
    "            calculate_classification_metric(metric)\n",
    "        else:\n",
    "            display(widgets.HTML(\"<b>These metrics are not applicable to regression problems.</b>\"))\n",
    "\n",
    "\n",
    "# Metric dictionaries\n",
    "regression_metrics = {\n",
    "    \"MAE\": \"Mean Absolute Error\",\n",
    "    \"MSE\": \"Mean Squared Error\",\n",
    "    \"RMSE\": \"Root Mean Squared Error\",\n",
    "    \"R2\": \"R-Squared\",\n",
    "    \"Adj R2\": \"Adjusted R-Squared\",\n",
    "}\n",
    "\n",
    "classification_metrics = {\n",
    "    \"Accuracy\": \"Accuracy Score\",\n",
    "    \"AUC\": \"Area Under the Curve\",\n",
    "    \"F1\": \"F1 Score\",\n",
    "    \"Precision\": \"Precision Score\",\n",
    "    \"Recall\": \"Recall Score\",\n",
    "}\n",
    "\n",
    "\n",
    "# Start tool\n",
    "def start_tool(df):\n",
    "    def show_regression():\n",
    "        reset_table()  # Clear previous results\n",
    "        input_box = setup_dropdowns(df)\n",
    "        display(input_box, generate_metric_buttons(regression_metrics, \"regression\"), result_table_widget)\n",
    "\n",
    "    def show_classification():\n",
    "        reset_table()  # Clear previous results\n",
    "        input_box = setup_dropdowns(df)\n",
    "        display(input_box, generate_metric_buttons(classification_metrics, \"classification\"), result_table_widget)\n",
    "\n",
    "    reset_table()  # Initialize table\n",
    "    regression_button = widgets.Button(\n",
    "        description=\"Regression Evaluation Metrics\", button_style=\"primary\", tooltip=\"Click to show regression metrics\"\n",
    "    )\n",
    "    classification_button = widgets.Button(\n",
    "        description=\"Classification Evaluation Metrics\",\n",
    "        button_style=\"primary\",\n",
    "        tooltip=\"Click to show classification metrics\",\n",
    "    )\n",
    "\n",
    "    regression_button.on_click(lambda _: show_regression())\n",
    "    classification_button.on_click(lambda _: show_classification())\n",
    "\n",
    "    display(widgets.HBox([regression_button, classification_button]))\n"
   ]
  },
  {
   "cell_type": "code",
   "execution_count": 5,
   "id": "b5bb999f",
   "metadata": {},
   "outputs": [
    {
     "data": {
      "application/vnd.jupyter.widget-view+json": {
       "model_id": "430ae98ded974284b6de094d0d35c0d6",
       "version_major": 2,
       "version_minor": 0
      },
      "text/plain": [
       "HBox(children=(Button(button_style='primary', description='Regression Evaluation Metrics', style=ButtonStyle()…"
      ]
     },
     "metadata": {},
     "output_type": "display_data"
    },
    {
     "data": {
      "application/vnd.jupyter.widget-view+json": {
       "model_id": "a4622a6575334b6b9294cda15d2140e1",
       "version_major": 2,
       "version_minor": 0
      },
      "text/plain": [
       "VBox(children=(Dropdown(description='Actual:', layout=Layout(width='50%'), options=('r_actual', 'r_predicted',…"
      ]
     },
     "metadata": {},
     "output_type": "display_data"
    },
    {
     "data": {
      "application/vnd.jupyter.widget-view+json": {
       "model_id": "bd1b10e9554b417da42b41b1a16d7209",
       "version_major": 2,
       "version_minor": 0
      },
      "text/plain": [
       "VBox(children=(Button(button_style='info', description='MAE', style=ButtonStyle(), tooltip='Mean Absolute Erro…"
      ]
     },
     "metadata": {},
     "output_type": "display_data"
    },
    {
     "data": {
      "application/vnd.jupyter.widget-view+json": {
       "model_id": "30fa7950722449e69a6a503b209fa3c6",
       "version_major": 2,
       "version_minor": 0
      },
      "text/plain": [
       "Output()"
      ]
     },
     "metadata": {},
     "output_type": "display_data"
    },
    {
     "data": {
      "application/vnd.jupyter.widget-view+json": {
       "model_id": "098bde55552d4c10864bb83d51df2d71",
       "version_major": 2,
       "version_minor": 0
      },
      "text/plain": [
       "HTML(value='<b>Values successfully loaded. You can now calculate metrics.</b>')"
      ]
     },
     "metadata": {},
     "output_type": "display_data"
    },
    {
     "data": {
      "application/vnd.jupyter.widget-view+json": {
       "model_id": "dbcb75b8407340e2a41f45b2f41509bf",
       "version_major": 2,
       "version_minor": 0
      },
      "text/plain": [
       "VBox(children=(Dropdown(description='Actual:', layout=Layout(width='50%'), options=('r_actual', 'r_predicted',…"
      ]
     },
     "metadata": {},
     "output_type": "display_data"
    },
    {
     "data": {
      "application/vnd.jupyter.widget-view+json": {
       "model_id": "13b58e9ad2374d5cb7541c75247de447",
       "version_major": 2,
       "version_minor": 0
      },
      "text/plain": [
       "VBox(children=(Button(button_style='info', description='Accuracy', style=ButtonStyle(), tooltip='Accuracy Scor…"
      ]
     },
     "metadata": {},
     "output_type": "display_data"
    },
    {
     "data": {
      "application/vnd.jupyter.widget-view+json": {
       "model_id": "d340434dc30e435686b50977542e2826",
       "version_major": 2,
       "version_minor": 0
      },
      "text/plain": [
       "Output()"
      ]
     },
     "metadata": {},
     "output_type": "display_data"
    },
    {
     "data": {
      "application/vnd.jupyter.widget-view+json": {
       "model_id": "74b227d6cdc240ce8f51d8251ac4ab1d",
       "version_major": 2,
       "version_minor": 0
      },
      "text/plain": [
       "HTML(value='<b>Values successfully loaded. You can now calculate metrics.</b>')"
      ]
     },
     "metadata": {},
     "output_type": "display_data"
    }
   ],
   "source": [
    "# Example Usage\n",
    "df = pd.DataFrame({\n",
    "    'r_actual': [3, 5, 2, 7, 8],\n",
    "    'r_predicted': [2.5, 5.1, 2.0, 7.2, 7.8],\n",
    "    'c_actual': [1, 0, 0, 1, 1],\n",
    "    'c_predicted': [0, 0, 1, 1, 1]\n",
    "})\n",
    "start_tool(df)\n"
   ]
  },
  {
   "cell_type": "code",
   "execution_count": null,
   "id": "8efc016e",
   "metadata": {},
   "outputs": [],
   "source": []
  }
 ],
 "metadata": {
  "kernelspec": {
   "display_name": "Python 3",
   "language": "python",
   "name": "python3"
  },
  "language_info": {
   "codemirror_mode": {
    "name": "ipython",
    "version": 3
   },
   "file_extension": ".py",
   "mimetype": "text/x-python",
   "name": "python",
   "nbconvert_exporter": "python",
   "pygments_lexer": "ipython3",
   "version": "3.8.8"
  }
 },
 "nbformat": 4,
 "nbformat_minor": 5
}
