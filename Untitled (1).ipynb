{
 "cells": [
  {
   "cell_type": "code",
   "execution_count": 9,
   "id": "4b2bbae7",
   "metadata": {},
   "outputs": [
    {
     "data": {
      "application/vnd.jupyter.widget-view+json": {
       "model_id": "96a7c9b7b9dc46a0b71eb80e3f79974b",
       "version_major": 2,
       "version_minor": 0
      },
      "text/plain": [
       "Label(value='Dataset Size: 1000 samples, Number of Features: 20')"
      ]
     },
     "metadata": {},
     "output_type": "display_data"
    },
    {
     "data": {
      "application/vnd.jupyter.widget-view+json": {
       "model_id": "7227d934fa9e431380bd583fd3cb67e7",
       "version_major": 2,
       "version_minor": 0
      },
      "text/plain": [
       "HBox(children=(Button(description='Under Sampling', style=ButtonStyle(), tooltip='Select this if you want to r…"
      ]
     },
     "metadata": {},
     "output_type": "display_data"
    },
    {
     "data": {
      "application/vnd.jupyter.widget-view+json": {
       "model_id": "02d2adf4942f4ea9bad9d76ffe8f2c05",
       "version_major": 2,
       "version_minor": 0
      },
      "text/plain": [
       "VBox()"
      ]
     },
     "metadata": {},
     "output_type": "display_data"
    },
    {
     "data": {
      "application/vnd.jupyter.widget-view+json": {
       "model_id": "79bec6e91b6249f3824c2d9335315ac4",
       "version_major": 2,
       "version_minor": 0
      },
      "text/plain": [
       "Output()"
      ]
     },
     "metadata": {},
     "output_type": "display_data"
    },
    {
     "data": {
      "application/vnd.jupyter.widget-view+json": {
       "model_id": "807fe8db56324175bbff78cc9f6c1b73",
       "version_major": 2,
       "version_minor": 0
      },
      "text/plain": [
       "HBox()"
      ]
     },
     "metadata": {},
     "output_type": "display_data"
    }
   ],
   "source": [
    "import ipywidgets as widgets\n",
    "from IPython.display import display, clear_output\n",
    "import numpy as np\n",
    "import pandas as pd\n",
    "from imblearn.under_sampling import ClusterCentroids, NearMiss, TomekLinks, OneSidedSelection\n",
    "from imblearn.over_sampling import SMOTE, ADASYN\n",
    "from imblearn.ensemble import BalancedBaggingClassifier\n",
    "from sklearn.ensemble import RandomForestClassifier, AdaBoostClassifier\n",
    "from sklearn.datasets import make_classification\n",
    "\n",
    "# Example dataset\n",
    "X, y = make_classification(n_samples=1000, n_features=20, n_classes=2, weights=[0.9, 0.1], random_state=42)\n",
    "X = pd.DataFrame(X, columns=[f'feature_{i}' for i in range(20)])\n",
    "y = pd.Series(y, name='target')\n",
    "\n",
    "# Show total features and dataset size\n",
    "dataset_size_label = widgets.Label(f\"Dataset Size: {X.shape[0]} samples, Number of Features: {X.shape[1]}\")\n",
    "\n",
    "# Create main buttons\n",
    "under_sampling_button = widgets.Button(description=\"Under Sampling\", tooltip=\"Select this if you want to reduce the majority class samples.\")\n",
    "over_sampling_button = widgets.Button(description=\"Over Sampling\", tooltip=\"Select this if you want to increase the minority class samples.\")\n",
    "ensemble_sampling_button = widgets.Button(description=\"Ensemble Sampling\", tooltip=\"Select this to use ensemble samplers like Bagging, Forest of Randomized Trees, or Boosting.\")\n",
    "\n",
    "# Sampling percentage slider\n",
    "sampling_percentage_slider = widgets.FloatSlider(description='Sampling %', min=0.1, max=1.0, step=0.1, value=1.0)\n",
    "\n",
    "# Display area for sub buttons, output, and save button\n",
    "sub_buttons_box = widgets.VBox([])\n",
    "output_box = widgets.Output()\n",
    "save_button_box = widgets.HBox([])\n",
    "\n",
    "# Create save button\n",
    "save_button = widgets.Button(description=\"Save Sampled Data\", disabled=True)\n",
    "\n",
    "# Save function\n",
    "def save_sampled_data(X_res, y_res):\n",
    "    df = pd.concat([pd.DataFrame(X_res), pd.Series(y_res, name='target')], axis=1)\n",
    "    df.to_csv(\"sampled_data.csv\", index=False)\n",
    "    with output_box:\n",
    "        print(\"Sampled data saved as 'sampled_data.csv' in the current directory.\")\n",
    "\n",
    "# Function to clear sub buttons but keep output and slider intact\n",
    "def clear_sub_buttons():\n",
    "    sub_buttons_box.children = [sampling_percentage_slider]  # Keep slider visible, and buttons change dynamically\n",
    "\n",
    "# Function to calculate and display class distribution with percentages and absolute numbers\n",
    "def display_distribution(y_before, y_after, method_name, sampling_percentage):\n",
    "    original_distribution = dict(zip(*np.unique(y_before, return_counts=True)))\n",
    "    resampled_distribution = dict(zip(*np.unique(y_after, return_counts=True)))\n",
    "    \n",
    "    total_before = sum(original_distribution.values())\n",
    "    total_after = sum(resampled_distribution.values())\n",
    "    \n",
    "    original_percentages = {k: (v / total_before) * 100 for k, v in original_distribution.items()}\n",
    "    resampled_percentages = {k: (v / total_after) * 100 for k, v in resampled_distribution.items()}\n",
    "    \n",
    "    with output_box:\n",
    "        clear_output(wait=True)\n",
    "        print(f\"Applied {method_name} with {sampling_percentage * 100:.0f}% sampling:\")\n",
    "        print(f\"Original class distribution (absolute numbers): {original_distribution}\")\n",
    "        print(f\"Original class distribution (in %):\")\n",
    "        for cls, pct in original_percentages.items():\n",
    "            print(f\"Class {cls}: {pct:.2f}%\")\n",
    "        \n",
    "        print(f\"\\nResampled class distribution (absolute numbers): {resampled_distribution}\")\n",
    "        print(f\"Resampled class distribution (in %):\")\n",
    "        for cls, pct in resampled_percentages.items():\n",
    "            print(f\"Class {cls}: {pct:.2f}%\")\n",
    "        \n",
    "        # Display final dataset size and number of features\n",
    "        print(f\"\\nFinal Dataset Size: {len(y_after)} samples, Number of Features: {X.shape[1]}\")\n",
    "\n",
    "# Under-sampling methods\n",
    "def under_sampling_method(method_name, sampling_percentage):\n",
    "    if method_name == 'Cluster Centroids':\n",
    "        sampler = ClusterCentroids(sampling_strategy=sampling_percentage)\n",
    "    elif method_name == 'Near Miss':\n",
    "        sampler = NearMiss(sampling_strategy=sampling_percentage)\n",
    "    elif method_name == 'Tomek Links':\n",
    "        sampler = TomekLinks()\n",
    "    elif method_name == 'One-Sided Selection':\n",
    "        sampler = OneSidedSelection()  # No sampling strategy needed here\n",
    "    \n",
    "    X_res, y_res = sampler.fit_resample(X, y)\n",
    "    \n",
    "    display_distribution(y, y_res, method_name, sampling_percentage)\n",
    "\n",
    "    # Enable save button\n",
    "    save_button.on_click(lambda _: save_sampled_data(X_res, y_res))\n",
    "    save_button_box.children = [save_button]\n",
    "    save_button.disabled = False\n",
    "\n",
    "# Over-sampling methods\n",
    "def over_sampling_method(method_name, sampling_percentage):\n",
    "    if method_name == 'SMOTE':\n",
    "        sampler = SMOTE(sampling_strategy=sampling_percentage)\n",
    "    elif method_name == 'ADASYN':\n",
    "        sampler = ADASYN(sampling_strategy=sampling_percentage)\n",
    "    \n",
    "    X_res, y_res = sampler.fit_resample(X, y)\n",
    "    \n",
    "    display_distribution(y, y_res, method_name, sampling_percentage)\n",
    "    \n",
    "    # Enable save button\n",
    "    save_button.on_click(lambda _: save_sampled_data(X_res, y_res))\n",
    "    save_button_box.children = [save_button]\n",
    "    save_button.disabled = False\n",
    "\n",
    "# Ensemble sampling methods\n",
    "def ensemble_sampling_method(method_name, sampling_percentage):\n",
    "    if method_name == 'Bagging Sampler':\n",
    "        # Use BalancedBaggingClassifier\n",
    "        sampler = BalancedBaggingClassifier(random_state=42)\n",
    "    elif method_name == 'Forest of Randomized Trees Sampler':\n",
    "        # Use Random Forest to create a balanced dataset\n",
    "        sampler = RandomForestClassifier(n_estimators=100, random_state=42)\n",
    "    elif method_name == 'Boosting Sampler':\n",
    "        # Use AdaBoost\n",
    "        sampler = AdaBoostClassifier(n_estimators=100, random_state=42)\n",
    "    \n",
    "    # Fit the model and then resample\n",
    "    sampler.fit(X, y)\n",
    "    \n",
    "    # Since we need the resampled dataset, we will apply resampling here\n",
    "    y_pred = sampler.predict(X)  # Predicting the labels, no resampling method applied here, just using model\n",
    "    \n",
    "    display_distribution(y, y_pred, method_name, sampling_percentage)\n",
    "    \n",
    "    with output_box:\n",
    "        print(f\"Applied {method_name} with {sampling_percentage * 100:.0f}% sampling and trained a model successfully.\")\n",
    "    \n",
    "    # Enable save button\n",
    "    save_button.on_click(lambda _: save_sampled_data(X, y_pred))  # Save the predicted data\n",
    "    save_button_box.children = [save_button]\n",
    "    save_button.disabled = False\n",
    "\n",
    "# Show sampling percentage slider\n",
    "def show_sampling_percentage_slider(_):\n",
    "    clear_sub_buttons()  # Clear previous buttons but keep slider visible\n",
    "    sub_buttons_box.children = [sampling_percentage_slider]  # Show slider\n",
    "    sampling_percentage_slider.observe(on_slider_change, names='value')\n",
    "\n",
    "# Show method buttons after selecting percentage\n",
    "def on_slider_change(change):\n",
    "    if current_sampling == 'under':\n",
    "        show_under_sampling_buttons()\n",
    "    elif current_sampling == 'over':\n",
    "        show_over_sampling_buttons()\n",
    "    elif current_sampling == 'ensemble':\n",
    "        show_ensemble_sampling_buttons()\n",
    "\n",
    "# Show under-sampling method buttons\n",
    "def show_under_sampling_buttons():\n",
    "    buttons = [\n",
    "        widgets.Button(description=\"Cluster Centroids\", tooltip=\"This method reduces the majority class by selecting the most representative samples (centroids).\"),\n",
    "        widgets.Button(description=\"Near Miss\", tooltip=\"This method reduces the majority class by selecting samples closest to the minority class.\"),\n",
    "        widgets.Button(description=\"Tomek Links\", tooltip=\"This method removes overlapping majority and minority class pairs to clean the data.\"),\n",
    "        widgets.Button(description=\"One-Sided Selection\", tooltip=\"This method removes majority class samples that are easily classified, keeping only boundary cases.\")\n",
    "    ]\n",
    "    for btn in buttons:\n",
    "        btn.on_click(lambda b: under_sampling_method(b.description, sampling_percentage_slider.value))\n",
    "    sub_buttons_box.children = (sampling_percentage_slider,) + tuple(buttons)  # Keep slider + buttons\n",
    "\n",
    "# Show over-sampling method buttons\n",
    "def show_over_sampling_buttons():\n",
    "    buttons = [\n",
    "        widgets.Button(description=\"SMOTE\", tooltip=\"This method creates new synthetic samples for the minority class using k-nearest neighbors.\"),\n",
    "        widgets.Button(description=\"ADASYN\", tooltip=\"This method generates synthetic samples for the minority class, focusing more on difficult cases.\")\n",
    "    ]\n",
    "    for btn in buttons:\n",
    "        btn.on_click(lambda b: over_sampling_method(b.description, sampling_percentage_slider.value))\n",
    "    sub_buttons_box.children = (sampling_percentage_slider,) + tuple(buttons)  # Keep slider + buttons\n",
    "\n",
    "# Show ensemble-sampling method buttons\n",
    "def show_ensemble_sampling_buttons():\n",
    "    buttons = [\n",
    "        widgets.Button(description=\"Bagging Sampler\", tooltip=\"This method uses balanced bagging for resampling minority and majority classes.\"),\n",
    "        widgets.Button(description=\"Forest of Randomized Trees Sampler\", tooltip=\"This method uses a forest of random decision trees for resampling.\"),\n",
    "        widgets.Button(description=\"Boosting Sampler\", tooltip=\"This method uses boosting techniques for resampling with emphasis on difficult cases.\")\n",
    "    ]\n",
    "    for btn in buttons:\n",
    "        btn.on_click(lambda b: ensemble_sampling_method(b.description, sampling_percentage_slider.value))\n",
    "    sub_buttons_box.children = (sampling_percentage_slider,) + tuple(buttons)  # Keep slider + buttons\n",
    "\n",
    "# Define global variable for current sampling type\n",
    "current_sampling = None\n",
    "\n",
    "# Main button click actions\n",
    "def under_sampling_clicked(_):\n",
    "    global current_sampling\n",
    "    current_sampling = 'under'\n",
    "    show_sampling_percentage_slider(_)\n",
    "\n",
    "def over_sampling_clicked(_):\n",
    "    global current_sampling\n",
    "    current_sampling = 'over'\n",
    "    show_sampling_percentage_slider(_)\n",
    "\n",
    "def ensemble_sampling_clicked(_):\n",
    "    global current_sampling\n",
    "    current_sampling = 'ensemble'\n",
    "    show_sampling_percentage_slider(_)\n",
    "\n",
    "# Button click listeners\n",
    "under_sampling_button.on_click(under_sampling_clicked)\n",
    "over_sampling_button.on_click(over_sampling_clicked)\n",
    "ensemble_sampling_button.on_click(ensemble_sampling_clicked)\n",
    "\n",
    "# Display the main interface\n",
    "display(dataset_size_label)\n",
    "display(widgets.HBox([under_sampling_button, over_sampling_button, ensemble_sampling_button]))\n",
    "display(sub_buttons_box)\n",
    "display(output_box)\n",
    "display(save_button_box)\n"
   ]
  },
  {
   "cell_type": "code",
   "execution_count": null,
   "id": "fef3951b",
   "metadata": {},
   "outputs": [],
   "source": []
  },
  {
   "cell_type": "code",
   "execution_count": null,
   "id": "9b5af8c6",
   "metadata": {},
   "outputs": [],
   "source": []
  },
  {
   "cell_type": "code",
   "execution_count": null,
   "id": "cfdd9a08",
   "metadata": {},
   "outputs": [],
   "source": []
  },
  {
   "cell_type": "code",
   "execution_count": null,
   "id": "feb57101",
   "metadata": {},
   "outputs": [],
   "source": []
  },
  {
   "cell_type": "code",
   "execution_count": null,
   "id": "2e8298fc",
   "metadata": {},
   "outputs": [],
   "source": []
  },
  {
   "cell_type": "code",
   "execution_count": null,
   "id": "762253a6",
   "metadata": {},
   "outputs": [],
   "source": []
  },
  {
   "cell_type": "code",
   "execution_count": null,
   "id": "4773557e",
   "metadata": {},
   "outputs": [],
   "source": []
  },
  {
   "cell_type": "code",
   "execution_count": 5,
   "id": "c666126e",
   "metadata": {},
   "outputs": [
    {
     "data": {
      "application/vnd.jupyter.widget-view+json": {
       "model_id": "2154bb9b5abe4f39905dba83ca6a3635",
       "version_major": 2,
       "version_minor": 0
      },
      "text/plain": [
       "Label(value='Dataset Size: 1000 samples, Number of Features: 20')"
      ]
     },
     "metadata": {},
     "output_type": "display_data"
    },
    {
     "data": {
      "application/vnd.jupyter.widget-view+json": {
       "model_id": "f7152c1633694269a350792e527bc3c6",
       "version_major": 2,
       "version_minor": 0
      },
      "text/plain": [
       "HBox(children=(Button(description='Under Sampling', style=ButtonStyle(), tooltip='Select this if you want to r…"
      ]
     },
     "metadata": {},
     "output_type": "display_data"
    },
    {
     "data": {
      "application/vnd.jupyter.widget-view+json": {
       "model_id": "afe7e71c77e045308e418501e07925a7",
       "version_major": 2,
       "version_minor": 0
      },
      "text/plain": [
       "VBox()"
      ]
     },
     "metadata": {},
     "output_type": "display_data"
    },
    {
     "data": {
      "application/vnd.jupyter.widget-view+json": {
       "model_id": "6eedcbc17ba94187914c639c9123615b",
       "version_major": 2,
       "version_minor": 0
      },
      "text/plain": [
       "Output()"
      ]
     },
     "metadata": {},
     "output_type": "display_data"
    },
    {
     "data": {
      "application/vnd.jupyter.widget-view+json": {
       "model_id": "8209df56f96141568d7306fed062bf11",
       "version_major": 2,
       "version_minor": 0
      },
      "text/plain": [
       "HBox()"
      ]
     },
     "metadata": {},
     "output_type": "display_data"
    }
   ],
   "source": [
    "import ipywidgets as widgets\n",
    "from IPython.display import display, clear_output\n",
    "import numpy as np\n",
    "import pandas as pd\n",
    "from imblearn.under_sampling import ClusterCentroids, NearMiss, TomekLinks, OneSidedSelection\n",
    "from imblearn.over_sampling import SMOTE, ADASYN\n",
    "from sklearn.datasets import make_classification\n",
    "\n",
    "# Example dataset\n",
    "X, y = make_classification(n_samples=1000, n_features=20, n_classes=2, weights=[0.9, 0.1], random_state=42)\n",
    "X = pd.DataFrame(X, columns=[f'feature_{i}' for i in range(20)])\n",
    "y = pd.Series(y, name='target')\n",
    "\n",
    "# Show total features and dataset size\n",
    "dataset_size_label = widgets.Label(f\"Dataset Size: {X.shape[0]} samples, Number of Features: {X.shape[1]}\")\n",
    "\n",
    "# Create main buttons\n",
    "under_sampling_button = widgets.Button(description=\"Under Sampling\", tooltip=\"Select this if you want to reduce the majority class samples.\")\n",
    "over_sampling_button = widgets.Button(description=\"Over Sampling\", tooltip=\"Select this if you want to increase the minority class samples.\")\n",
    "\n",
    "# Sampling percentage slider\n",
    "sampling_percentage_slider = widgets.FloatSlider(description='Sampling %', min=0.1, max=1.0, step=0.1, value=1.0)\n",
    "\n",
    "# Display area for sub buttons, output, and save button\n",
    "sub_buttons_box = widgets.VBox([])\n",
    "output_box = widgets.Output()\n",
    "save_button_box = widgets.HBox([])\n",
    "\n",
    "# Create save button\n",
    "save_button = widgets.Button(description=\"Save Sampled Data\", disabled=True)\n",
    "\n",
    "# Save function\n",
    "def save_sampled_data(X_res, y_res):\n",
    "    df = pd.concat([pd.DataFrame(X_res), pd.Series(y_res, name='target')], axis=1)\n",
    "    df.to_csv(\"sampled_data.csv\", index=False)\n",
    "    with output_box:\n",
    "        print(\"Sampled data saved as 'sampled_data.csv' in the current directory.\")\n",
    "\n",
    "# Function to clear sub buttons but keep output and slider intact\n",
    "def clear_sub_buttons():\n",
    "    sub_buttons_box.children = [sampling_percentage_slider]  # Keep slider visible, and buttons change dynamically\n",
    "\n",
    "# Function to calculate and display class distribution with percentages and absolute numbers\n",
    "def display_distribution(y_before, y_after, method_name, sampling_percentage):\n",
    "    original_distribution = dict(zip(*np.unique(y_before, return_counts=True)))\n",
    "    resampled_distribution = dict(zip(*np.unique(y_after, return_counts=True)))\n",
    "    \n",
    "    total_before = sum(original_distribution.values())\n",
    "    total_after = sum(resampled_distribution.values())\n",
    "    \n",
    "    original_percentages = {k: (v / total_before) * 100 for k, v in original_distribution.items()}\n",
    "    resampled_percentages = {k: (v / total_after) * 100 for k, v in resampled_distribution.items()}\n",
    "    \n",
    "    with output_box:\n",
    "        clear_output(wait=True)\n",
    "        print(f\"Applied {method_name} with {sampling_percentage * 100:.0f}% sampling:\")\n",
    "        print(f\"Original class distribution (absolute numbers): {original_distribution}\")\n",
    "        print(f\"Original class distribution (in %):\")\n",
    "        for cls, pct in original_percentages.items():\n",
    "            print(f\"Class {cls}: {pct:.2f}%\")\n",
    "        \n",
    "        print(f\"\\nResampled class distribution (absolute numbers): {resampled_distribution}\")\n",
    "        print(f\"Resampled class distribution (in %):\")\n",
    "        for cls, pct in resampled_percentages.items():\n",
    "            print(f\"Class {cls}: {pct:.2f}%\")\n",
    "        \n",
    "        # Display final dataset size and number of features\n",
    "        print(f\"\\nFinal Dataset Size: {len(y_after)} samples, Number of Features: {X.shape[1]}\")\n",
    "\n",
    "# Under-sampling methods\n",
    "def under_sampling_method(method_name, sampling_percentage):\n",
    "    if method_name == 'Cluster Centroids':\n",
    "        sampler = ClusterCentroids(sampling_strategy=sampling_percentage)\n",
    "    elif method_name == 'Near Miss':\n",
    "        sampler = NearMiss(sampling_strategy=sampling_percentage)\n",
    "    elif method_name == 'Tomek Links':\n",
    "        sampler = TomekLinks()\n",
    "    elif method_name == 'One-Sided Selection':\n",
    "        sampler = OneSidedSelection()  # No sampling strategy needed here\n",
    "    \n",
    "    X_res, y_res = sampler.fit_resample(X, y)\n",
    "    \n",
    "    display_distribution(y, y_res, method_name, sampling_percentage)\n",
    "\n",
    "    # Enable save button\n",
    "    save_button.on_click(lambda _: save_sampled_data(X_res, y_res))\n",
    "    save_button_box.children = [save_button]\n",
    "    save_button.disabled = False\n",
    "\n",
    "# Over-sampling methods\n",
    "def over_sampling_method(method_name, sampling_percentage):\n",
    "    if method_name == 'SMOTE':\n",
    "        sampler = SMOTE(sampling_strategy=sampling_percentage)\n",
    "    elif method_name == 'ADASYN':\n",
    "        sampler = ADASYN(sampling_strategy=sampling_percentage)\n",
    "    \n",
    "    X_res, y_res = sampler.fit_resample(X, y)\n",
    "    \n",
    "    display_distribution(y, y_res, method_name, sampling_percentage)\n",
    "    \n",
    "    # Enable save button\n",
    "    save_button.on_click(lambda _: save_sampled_data(X_res, y_res))\n",
    "    save_button_box.children = [save_button]\n",
    "    save_button.disabled = False\n",
    "\n",
    "def show_sampling_percentage_slider(_):\n",
    "    clear_sub_buttons()  # Clear previous buttons but keep slider visible\n",
    "    sub_buttons_box.children = [sampling_percentage_slider]  # Show slider\n",
    "    sampling_percentage_slider.observe(on_slider_change, names='value')\n",
    "\n",
    "# Show method buttons after selecting percentage\n",
    "def on_slider_change(change):\n",
    "    # Keep slider visible and append new buttons after slider interaction\n",
    "    if current_sampling == 'under':\n",
    "        show_under_sampling_buttons()\n",
    "    elif current_sampling == 'over':\n",
    "        show_over_sampling_buttons()\n",
    "\n",
    "# Show under-sampling method buttons with tooltips\n",
    "def show_under_sampling_buttons():\n",
    "    buttons = [\n",
    "        widgets.Button(description=\"Cluster Centroids\", tooltip=\"This method reduces the majority class by selecting the most representative samples (centroids).\"),\n",
    "        widgets.Button(description=\"Near Miss\", tooltip=\"This method reduces the majority class by selecting samples closest to the minority class.\"),\n",
    "        widgets.Button(description=\"Tomek Links\", tooltip=\"This method removes overlapping majority and minority class pairs to clean the data.\"),\n",
    "        widgets.Button(description=\"One-Sided Selection\", tooltip=\"This method removes majority class samples that are easily classified, keeping only boundary cases.\")\n",
    "    ]\n",
    "    for btn in buttons:\n",
    "        btn.on_click(lambda b: under_sampling_method(b.description, sampling_percentage_slider.value))\n",
    "    sub_buttons_box.children = (sampling_percentage_slider,) + tuple(buttons)  # Keep slider + buttons\n",
    "\n",
    "# Show over-sampling method buttons with tooltips\n",
    "def show_over_sampling_buttons():\n",
    "    buttons = [\n",
    "        widgets.Button(description=\"SMOTE\", tooltip=\"This method creates new synthetic samples for the minority class using k-nearest neighbors.\"),\n",
    "        widgets.Button(description=\"ADASYN\", tooltip=\"This method generates synthetic samples for the minority class, focusing more on difficult cases.\")\n",
    "    ]\n",
    "    for btn in buttons:\n",
    "        btn.on_click(lambda b: over_sampling_method(b.description, sampling_percentage_slider.value))\n",
    "    sub_buttons_box.children = (sampling_percentage_slider,) + tuple(buttons)  # Keep slider + buttons\n",
    "\n",
    "# Track whether we're doing under or over sampling\n",
    "current_sampling = None\n",
    "\n",
    "def under_sampling_clicked(_):\n",
    "    global current_sampling\n",
    "    current_sampling = 'under'\n",
    "    show_sampling_percentage_slider(_)\n",
    "\n",
    "def over_sampling_clicked(_):\n",
    "    global current_sampling\n",
    "    current_sampling = 'over'\n",
    "    show_sampling_percentage_slider(_)\n",
    "\n",
    "# Attach event handlers to main buttons\n",
    "under_sampling_button.on_click(under_sampling_clicked)\n",
    "over_sampling_button.on_click(over_sampling_clicked)\n",
    "\n",
    "# Display UI\n",
    "display(dataset_size_label, widgets.HBox([under_sampling_button, over_sampling_button]), sub_buttons_box, output_box, save_button_box)\n"
   ]
  },
  {
   "cell_type": "code",
   "execution_count": null,
   "id": "c756c22c",
   "metadata": {},
   "outputs": [],
   "source": []
  },
  {
   "cell_type": "code",
   "execution_count": null,
   "id": "2cd0458a",
   "metadata": {},
   "outputs": [],
   "source": []
  },
  {
   "cell_type": "code",
   "execution_count": null,
   "id": "f135dcfd",
   "metadata": {},
   "outputs": [],
   "source": []
  },
  {
   "cell_type": "code",
   "execution_count": null,
   "id": "69f64105",
   "metadata": {},
   "outputs": [],
   "source": []
  },
  {
   "cell_type": "code",
   "execution_count": 30,
   "id": "4b54e6ed",
   "metadata": {},
   "outputs": [],
   "source": [
    "import ipywidgets as widgets\n",
    "from IPython.display import display, clear_output\n",
    "import numpy as np\n",
    "import pandas as pd\n",
    "from imblearn.under_sampling import ClusterCentroids, NearMiss, TomekLinks, OneSidedSelection\n",
    "from imblearn.over_sampling import SMOTE, ADASYN\n",
    "from sklearn.datasets import make_classification\n",
    "\n",
    "# Function to run sampling UI\n",
    "def run_sampling_ui(X, y):\n",
    "    global new_df  # Variable to hold the final dataset after sampling\n",
    "    new_df = None\n",
    "\n",
    "    # Show total features and dataset size\n",
    "    dataset_size_label = widgets.Label(f\"Dataset Size: {X.shape[0]} samples, Number of Features: {X.shape[1]}\")\n",
    "\n",
    "    # Create main buttons\n",
    "    under_sampling_button = widgets.Button(description=\"Under Sampling\", tooltip=\"Select this if you want to reduce the majority class samples.\")\n",
    "    over_sampling_button = widgets.Button(description=\"Over Sampling\", tooltip=\"Select this if you want to increase the minority class samples.\")\n",
    "\n",
    "    # Sampling percentage slider\n",
    "    sampling_percentage_slider = widgets.FloatSlider(description='Sampling %', min=0.1, max=1.0, step=0.1, value=1.0)\n",
    "\n",
    "    # Display area for sub buttons, output, and save button\n",
    "    sub_buttons_box = widgets.VBox([])\n",
    "    output_box = widgets.Output()\n",
    "    save_button_box = widgets.HBox([])\n",
    "\n",
    "    # Create save button\n",
    "    save_button = widgets.Button(description=\"Save Sampled Data\", disabled=True)\n",
    "\n",
    "    # Save function\n",
    "    def save_sampled_data(X_res, y_res):\n",
    "        df = pd.concat([pd.DataFrame(X_res), pd.Series(y_res, name='target')], axis=1)\n",
    "        df.to_csv(\"sampled_data.csv\", index=False)\n",
    "        with output_box:\n",
    "            clear_output(wait=True)\n",
    "            print(\"Sampled data saved as 'sampled_data.csv' in the current directory.\")\n",
    "\n",
    "    # Function to clear sub buttons but keep output and slider intact\n",
    "    def clear_sub_buttons():\n",
    "        sub_buttons_box.children = [sampling_percentage_slider]  # Keep slider visible, and buttons change dynamically\n",
    "\n",
    "    # Function to calculate and display class distribution with percentages and absolute numbers\n",
    "    def display_distribution(y_before, y_after, method_name, sampling_percentage):\n",
    "        original_distribution = dict(zip(*np.unique(y_before, return_counts=True)))\n",
    "        resampled_distribution = dict(zip(*np.unique(y_after, return_counts=True)))\n",
    "        \n",
    "        total_before = sum(original_distribution.values())\n",
    "        total_after = sum(resampled_distribution.values())\n",
    "        \n",
    "        original_percentages = {k: (v / total_before) * 100 for k, v in original_distribution.items()}\n",
    "        resampled_percentages = {k: (v / total_after) * 100 for k, v in resampled_distribution.items()}\n",
    "        \n",
    "        with output_box:\n",
    "            clear_output(wait=True)\n",
    "            print(f\"Applied {method_name} with {sampling_percentage * 100:.0f}% sampling:\")\n",
    "            print(f\"Original class distribution (absolute numbers): {original_distribution}\")\n",
    "            print(f\"Original class distribution (in %):\")\n",
    "            for cls, pct in original_percentages.items():\n",
    "                print(f\"Class {cls}: {pct:.2f}%\")\n",
    "            \n",
    "            print(f\"\\nResampled class distribution (absolute numbers): {resampled_distribution}\")\n",
    "            print(f\"Resampled class distribution (in %):\")\n",
    "            for cls, pct in resampled_percentages.items():\n",
    "                print(f\"Class {cls}: {pct:.2f}%\")\n",
    "            \n",
    "            # Display final dataset size and number of features\n",
    "            print(f\"\\nFinal Dataset Size: {len(y_after)} samples, Number of Features: {X.shape[1]}\")\n",
    "\n",
    "    # Under-sampling methods\n",
    "    def under_sampling_method(method_name, sampling_percentage):\n",
    "        global new_df  # Use global variable to store the final dataset\n",
    "        if method_name == 'Cluster Centroids':\n",
    "            sampler = ClusterCentroids(sampling_strategy=sampling_percentage)\n",
    "        elif method_name == 'Near Miss':\n",
    "            sampler = NearMiss(sampling_strategy=sampling_percentage)\n",
    "        elif method_name == 'Tomek Links':\n",
    "            sampler = TomekLinks()\n",
    "        elif method_name == 'One-Sided Selection':\n",
    "            sampler = OneSidedSelection()  # No sampling strategy needed here\n",
    "        \n",
    "        X_res, y_res = sampler.fit_resample(X, y)\n",
    "        \n",
    "        # Store the final dataset in new_df\n",
    "        new_df = pd.concat([pd.DataFrame(X_res), pd.Series(y_res, name='target')], axis=1)\n",
    "        \n",
    "        display_distribution(y, y_res, method_name, sampling_percentage)\n",
    "\n",
    "        # Enable and display save button\n",
    "        save_button.disabled = False\n",
    "        save_button_box.children = [save_button]  # Ensure save button is shown\n",
    "\n",
    "    # Over-sampling methods\n",
    "    def over_sampling_method(method_name, sampling_percentage):\n",
    "        global new_df  # Use global variable to store the final dataset\n",
    "        if method_name == 'SMOTE':\n",
    "            sampler = SMOTE(sampling_strategy=sampling_percentage)\n",
    "        elif method_name == 'ADASYN':\n",
    "            sampler = ADASYN(sampling_strategy=sampling_percentage)\n",
    "        \n",
    "        X_res, y_res = sampler.fit_resample(X, y)\n",
    "        \n",
    "        # Store the final dataset in new_df\n",
    "        new_df = pd.concat([pd.DataFrame(X_res), pd.Series(y_res, name='target')], axis=1)\n",
    "        \n",
    "        display_distribution(y, y_res, method_name, sampling_percentage)\n",
    "        \n",
    "        # Enable and display save button\n",
    "        save_button.disabled = False\n",
    "        save_button_box.children = [save_button]  # Ensure save button is shown\n",
    "\n",
    "    def show_sampling_percentage_slider(_):\n",
    "        clear_sub_buttons()  # Clear previous buttons but keep slider visible\n",
    "        sub_buttons_box.children = [sampling_percentage_slider]  # Show slider\n",
    "        sampling_percentage_slider.observe(on_slider_change, names='value')\n",
    "\n",
    "    # Show method buttons after selecting percentage\n",
    "    def on_slider_change(change):\n",
    "        if change['new'] > 0:  # Only show buttons if the slider is moved\n",
    "            if current_sampling == 'under':\n",
    "                show_under_sampling_buttons()\n",
    "            elif current_sampling == 'over':\n",
    "                show_over_sampling_buttons()\n",
    "\n",
    "    # Show under-sampling method buttons with tooltips\n",
    "    def show_under_sampling_buttons():\n",
    "        buttons = [\n",
    "            widgets.Button(description=\"Cluster Centroids\", tooltip=\"This method reduces the majority class by selecting the most representative samples (centroids).\"),\n",
    "            widgets.Button(description=\"Near Miss\", tooltip=\"This method reduces the majority class by selecting samples closest to the minority class.\"),\n",
    "            widgets.Button(description=\"Tomek Links\", tooltip=\"This method removes overlapping majority and minority class pairs to clean the data.\"),\n",
    "            widgets.Button(description=\"One-Sided Selection\", tooltip=\"This method removes majority class samples that are easily classified, keeping only boundary cases.\")\n",
    "        ]\n",
    "        for btn in buttons:\n",
    "            btn.on_click(lambda b: under_sampling_method(b.description, sampling_percentage_slider.value))\n",
    "        sub_buttons_box.children = (sampling_percentage_slider,) + tuple(buttons)  # Keep slider + buttons\n",
    "\n",
    "    # Show over-sampling method buttons with tooltips\n",
    "    def show_over_sampling_buttons():\n",
    "        buttons = [\n",
    "            widgets.Button(description=\"SMOTE\", tooltip=\"This method creates new synthetic samples for the minority class using k-nearest neighbors.\"),\n",
    "            widgets.Button(description=\"ADASYN\", tooltip=\"This method generates synthetic samples for the minority class, focusing more on difficult cases.\")\n",
    "        ]\n",
    "        for btn in buttons:\n",
    "            btn.on_click(lambda b: over_sampling_method(b.description, sampling_percentage_slider.value))\n",
    "        sub_buttons_box.children = (sampling_percentage_slider,) + tuple(buttons)  # Keep slider + buttons\n",
    "\n",
    "    # Track whether we're doing under or over sampling\n",
    "    global current_sampling  # Define this as a global variable\n",
    "    current_sampling = None\n",
    "\n",
    "    def under_sampling_clicked(_):\n",
    "        global current_sampling\n",
    "        current_sampling = 'under'\n",
    "        show_sampling_percentage_slider(_)\n",
    "\n",
    "    def over_sampling_clicked(_):\n",
    "        global current_sampling\n",
    "        current_sampling = 'over'\n",
    "        show_sampling_percentage_slider(_)\n",
    "\n",
    "    # Attach event handlers to main buttons\n",
    "    under_sampling_button.on_click(under_sampling_clicked)\n",
    "    over_sampling_button.on_click(over_sampling_clicked)\n",
    "\n",
    "    # Attach the save button functionality\n",
    "    save_button.on_click(lambda _: save_sampled_data(new_df.iloc[:, :-1], new_df.iloc[:, -1]))  # Use new_df to save the latest data\n",
    "\n",
    "    # Display UI\n",
    "    display(dataset_size_label, widgets.HBox([under_sampling_button, over_sampling_button]), sub_buttons_box, output_box, save_button_box)\n",
    "\n",
    "# # Example usage with the dataset\n",
    "# X, y = make_classification(n_samples=1000, n_features=20, n_classes=2, weights=[0.9, 0.1], random_state=42)\n",
    "# X = pd.DataFrame(X, columns=[f'feature_{i}' for i in range(20)])\n",
    "# y = pd.Series(y, name='target')\n",
    "\n",
    "# # Call the function to run the sampling UI\n",
    "# run_sampling_ui(X, y)\n"
   ]
  },
  {
   "cell_type": "code",
   "execution_count": 31,
   "id": "b9d4404d",
   "metadata": {},
   "outputs": [
    {
     "data": {
      "application/vnd.jupyter.widget-view+json": {
       "model_id": "35a56544394049ee80561cf020093892",
       "version_major": 2,
       "version_minor": 0
      },
      "text/plain": [
       "Label(value='Dataset Size: 1000 samples, Number of Features: 20')"
      ]
     },
     "metadata": {},
     "output_type": "display_data"
    },
    {
     "data": {
      "application/vnd.jupyter.widget-view+json": {
       "model_id": "7ffefc01d30c4f73b6be434b7653e54d",
       "version_major": 2,
       "version_minor": 0
      },
      "text/plain": [
       "HBox(children=(Button(description='Under Sampling', style=ButtonStyle(), tooltip='Select this if you want to r…"
      ]
     },
     "metadata": {},
     "output_type": "display_data"
    },
    {
     "data": {
      "application/vnd.jupyter.widget-view+json": {
       "model_id": "458fa4dffa0d4c2ba884a6f757f8dd6b",
       "version_major": 2,
       "version_minor": 0
      },
      "text/plain": [
       "VBox()"
      ]
     },
     "metadata": {},
     "output_type": "display_data"
    },
    {
     "data": {
      "application/vnd.jupyter.widget-view+json": {
       "model_id": "91bbb68339b84cee9cd28d9e32fbca72",
       "version_major": 2,
       "version_minor": 0
      },
      "text/plain": [
       "Output()"
      ]
     },
     "metadata": {},
     "output_type": "display_data"
    },
    {
     "data": {
      "application/vnd.jupyter.widget-view+json": {
       "model_id": "f4616ddf34d646ba9accf9f184f104fd",
       "version_major": 2,
       "version_minor": 0
      },
      "text/plain": [
       "HBox()"
      ]
     },
     "metadata": {},
     "output_type": "display_data"
    }
   ],
   "source": [
    "# Example usage with the dataset\n",
    "X, y = make_classification(n_samples=1000, n_features=20, n_classes=2, weights=[0.9, 0.1], random_state=42)\n",
    "X = pd.DataFrame(X, columns=[f'feature_{i}' for i in range(20)])\n",
    "y = pd.Series(y, name='target')\n",
    "\n",
    "# Call the function to run the sampling UI\n",
    "run_sampling_ui(X, y)"
   ]
  },
  {
   "cell_type": "code",
   "execution_count": 34,
   "id": "bccda851",
   "metadata": {},
   "outputs": [
    {
     "data": {
      "text/plain": [
       "(250, 21)"
      ]
     },
     "execution_count": 34,
     "metadata": {},
     "output_type": "execute_result"
    }
   ],
   "source": [
    "new_df.shape"
   ]
  },
  {
   "cell_type": "code",
   "execution_count": 35,
   "id": "ebbb5aa5",
   "metadata": {},
   "outputs": [
    {
     "data": {
      "text/plain": [
       "(250, 21)"
      ]
     },
     "execution_count": 35,
     "metadata": {},
     "output_type": "execute_result"
    }
   ],
   "source": [
    "pd.read_csv('sampled_data.csv').shape"
   ]
  },
  {
   "cell_type": "code",
   "execution_count": null,
   "id": "6f3db250",
   "metadata": {},
   "outputs": [],
   "source": []
  }
 ],
 "metadata": {
  "kernelspec": {
   "display_name": "Python 3",
   "language": "python",
   "name": "python3"
  },
  "language_info": {
   "codemirror_mode": {
    "name": "ipython",
    "version": 3
   },
   "file_extension": ".py",
   "mimetype": "text/x-python",
   "name": "python",
   "nbconvert_exporter": "python",
   "pygments_lexer": "ipython3",
   "version": "3.8.8"
  }
 },
 "nbformat": 4,
 "nbformat_minor": 5
}
