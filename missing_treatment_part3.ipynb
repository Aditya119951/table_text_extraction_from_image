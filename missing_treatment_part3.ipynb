{
 "cells": [
  {
   "cell_type": "code",
   "execution_count": 1,
   "id": "620006b3",
   "metadata": {},
   "outputs": [],
   "source": [
    "import pandas as pd\n",
    "import os\n",
    "import ipywidgets as widgets\n",
    "from IPython.display import display\n",
    "\n",
    "def handle_missing_data_interactive(data):\n",
    "    def impute_missing_values(b):\n",
    "        try:\n",
    "            numeric = []\n",
    "            categorical = []\n",
    "            garbage = []\n",
    "            nmean, nmode, nmedian, fb = [[] for _ in range(4)]  # Fixed variable names\n",
    "            \n",
    "            for col in data.columns:\n",
    "                if data[col].dtype in ['int64', 'float64']:\n",
    "                    numeric.append(col)\n",
    "                elif data[col].dtype == 'O' or data[col].dtype == 'bool':\n",
    "                    categorical.append(col)\n",
    "                else:\n",
    "                    garbage.append(col)\n",
    "            \n",
    "            if garbage:\n",
    "                print(\"Following are erroneous columns:\", garbage)\n",
    "                data.drop(columns=garbage, inplace=True)\n",
    "            \n",
    "            missing_numeric = [col for col in numeric if data[col].isnull().any()]\n",
    "            missing_categorical = [col for col in categorical if data[col].isnull().any()]\n",
    "            \n",
    "            if not missing_numeric and not missing_categorical:\n",
    "                print(\"No missing values in the dataset.\")\n",
    "                return\n",
    "            \n",
    "            if missing_numeric:\n",
    "                print(\"Numeric columns - missing values replaced by median:\")\n",
    "                for col in missing_numeric:\n",
    "                    print(f\"-> {col}\")\n",
    "                    data[col].fillna(data[col].median(), inplace=True)\n",
    "                    nmean.append(data[col].mean())  # Fixed variable name\n",
    "                    nmedian.append(data[col].median())\n",
    "                    nmode.append(data[col].mode()[0])\n",
    "                    fb.append(data[col].median())\n",
    "            \n",
    "            if missing_categorical:\n",
    "                print(\"\\nCategorical columns - missing values replaced by mode:\")\n",
    "                cmode = []\n",
    "                for col in missing_categorical:\n",
    "                    print(f\"-> {col}\")\n",
    "                    mode_value = data[col].mode()[0]\n",
    "                    data[col].fillna(mode_value, inplace=True)\n",
    "                    cmode.append(mode_value)\n",
    "                    fb.append(mode_value)\n",
    "            \n",
    "                cdf = pd.DataFrame({'Features': missing_categorical, 'Mode': cmode})\n",
    "            else:\n",
    "                cdf = pd.DataFrame(columns=['Features', 'Mode'])\n",
    "            \n",
    "            if missing_numeric:\n",
    "                ndf = pd.DataFrame({'Features': missing_numeric, 'Mean': nmean, 'Median': nmedian, 'Mode': nmode})\n",
    "            else:\n",
    "                ndf = pd.DataFrame(columns=['Features', 'Mean', 'Median', 'Mode'])\n",
    "            \n",
    "            fdf = pd.DataFrame({'Features': missing_numeric + missing_categorical, 'Replacable Values': fb})\n",
    "            \n",
    "            os.makedirs(\"Reports\", exist_ok=True)\n",
    "            cdf.to_csv(\"Reports/CategoricalMMM.csv\", index=False)\n",
    "            ndf.to_csv(\"Reports/NumericMMM.csv\", index=False)\n",
    "            fdf.to_csv(\"Reports/FillMissingData.csv\", index=False)\n",
    "            \n",
    "            print(\"Missing values imputed successfully and reports generated.\")\n",
    "        except Exception as e:\n",
    "            print(\"The missing value computation has reached a fault checkpoint. Please revisit the data and the steps taken before calling this function:\", e)\n",
    "    \n",
    "    button = widgets.Button(\n",
    "        description=\"Impute Missing Values\", \n",
    "        button_style='success',\n",
    "        tooltip=\"Click to replace missing values with appropriate statistics\",\n",
    "        layout=widgets.Layout(width='200px')  # Ensures full visibility of button\n",
    "    )\n",
    "    display(widgets.HBox([button]))  # Ensures proper display of button\n",
    "    button.on_click(impute_missing_values)\n",
    "    return\n"
   ]
  },
  {
   "cell_type": "code",
   "execution_count": 2,
   "id": "adc2f2c7",
   "metadata": {},
   "outputs": [],
   "source": [
    "haha = pd.DataFrame({\n",
    "    'Age': [25, 30, 34, 35, 40],\n",
    "    'Salary': [50000, None, 60000, 70000, None],\n",
    "    'Gender': ['Male', 'Female', 'Female', None, 'Male'],\n",
    "    'Married': [None, 'Yes', 'No', 'Yes', None]\n",
    "})"
   ]
  },
  {
   "cell_type": "code",
   "execution_count": 3,
   "id": "4b67bfd7",
   "metadata": {},
   "outputs": [
    {
     "data": {
      "application/vnd.jupyter.widget-view+json": {
       "model_id": "fbd0a71fa210491b99fc99e820b01341",
       "version_major": 2,
       "version_minor": 0
      },
      "text/plain": [
       "HBox(children=(Button(button_style='success', description='Impute Missing Values', layout=Layout(width='200px'…"
      ]
     },
     "metadata": {},
     "output_type": "display_data"
    },
    {
     "name": "stdout",
     "output_type": "stream",
     "text": [
      "Numeric columns - missing values replaced by median:\n",
      "-> Salary\n",
      "\n",
      "Categorical columns - missing values replaced by mode:\n",
      "-> Gender\n",
      "-> Married\n",
      "Missing values imputed successfully and reports generated.\n"
     ]
    }
   ],
   "source": [
    "handle_missing_data_interactive(haha)"
   ]
  },
  {
   "cell_type": "code",
   "execution_count": 4,
   "id": "995a864c",
   "metadata": {},
   "outputs": [
    {
     "data": {
      "text/html": [
       "<div>\n",
       "<style scoped>\n",
       "    .dataframe tbody tr th:only-of-type {\n",
       "        vertical-align: middle;\n",
       "    }\n",
       "\n",
       "    .dataframe tbody tr th {\n",
       "        vertical-align: top;\n",
       "    }\n",
       "\n",
       "    .dataframe thead th {\n",
       "        text-align: right;\n",
       "    }\n",
       "</style>\n",
       "<table border=\"1\" class=\"dataframe\">\n",
       "  <thead>\n",
       "    <tr style=\"text-align: right;\">\n",
       "      <th></th>\n",
       "      <th>Age</th>\n",
       "      <th>Salary</th>\n",
       "      <th>Gender</th>\n",
       "      <th>Married</th>\n",
       "    </tr>\n",
       "  </thead>\n",
       "  <tbody>\n",
       "    <tr>\n",
       "      <th>0</th>\n",
       "      <td>25</td>\n",
       "      <td>50000.0</td>\n",
       "      <td>Male</td>\n",
       "      <td>Yes</td>\n",
       "    </tr>\n",
       "    <tr>\n",
       "      <th>1</th>\n",
       "      <td>30</td>\n",
       "      <td>60000.0</td>\n",
       "      <td>Female</td>\n",
       "      <td>Yes</td>\n",
       "    </tr>\n",
       "    <tr>\n",
       "      <th>2</th>\n",
       "      <td>34</td>\n",
       "      <td>60000.0</td>\n",
       "      <td>Female</td>\n",
       "      <td>No</td>\n",
       "    </tr>\n",
       "    <tr>\n",
       "      <th>3</th>\n",
       "      <td>35</td>\n",
       "      <td>70000.0</td>\n",
       "      <td>Female</td>\n",
       "      <td>Yes</td>\n",
       "    </tr>\n",
       "    <tr>\n",
       "      <th>4</th>\n",
       "      <td>40</td>\n",
       "      <td>60000.0</td>\n",
       "      <td>Male</td>\n",
       "      <td>Yes</td>\n",
       "    </tr>\n",
       "  </tbody>\n",
       "</table>\n",
       "</div>"
      ],
      "text/plain": [
       "   Age   Salary  Gender Married\n",
       "0   25  50000.0    Male     Yes\n",
       "1   30  60000.0  Female     Yes\n",
       "2   34  60000.0  Female      No\n",
       "3   35  70000.0  Female     Yes\n",
       "4   40  60000.0    Male     Yes"
      ]
     },
     "execution_count": 4,
     "metadata": {},
     "output_type": "execute_result"
    }
   ],
   "source": [
    "haha"
   ]
  },
  {
   "cell_type": "code",
   "execution_count": null,
   "id": "9cf7b4c6",
   "metadata": {},
   "outputs": [],
   "source": []
  }
 ],
 "metadata": {
  "kernelspec": {
   "display_name": "Python 3",
   "language": "python",
   "name": "python3"
  },
  "language_info": {
   "codemirror_mode": {
    "name": "ipython",
    "version": 3
   },
   "file_extension": ".py",
   "mimetype": "text/x-python",
   "name": "python",
   "nbconvert_exporter": "python",
   "pygments_lexer": "ipython3",
   "version": "3.8.8"
  }
 },
 "nbformat": 4,
 "nbformat_minor": 5
}
