{
 "cells": [
  {
   "cell_type": "code",
   "execution_count": 1,
   "id": "59d69969",
   "metadata": {},
   "outputs": [],
   "source": [
    "import ipywidgets as widgets\n",
    "from IPython.display import display, clear_output\n",
    "import numpy as np\n",
    "import pandas as pd\n",
    "import pickle\n",
    "from imblearn.under_sampling import ClusterCentroids, NearMiss, TomekLinks, OneSidedSelection\n",
    "from imblearn.over_sampling import SMOTE, ADASYN\n",
    "import warnings\n",
    "from sklearn.utils import resample\n",
    "\n",
    "warnings.filterwarnings('ignore')\n",
    "\n",
    "# Fixed random state for reproducibility\n",
    "RANDOM_STATE = 42\n",
    "\n",
    "# Define custom samplers outside of the function\n",
    "class StratifiedSampler:\n",
    "    def __init__(self, sampling_strategy, strata_features, random_state=RANDOM_STATE):\n",
    "        self.sampling_strategy = sampling_strategy\n",
    "        self.strata_features = list(strata_features)  # Convert tuple to list\n",
    "        self.random_state = random_state\n",
    "\n",
    "    def fit_resample(self, X, y):\n",
    "        # Ensure we are selecting the correct columns from X as a DataFrame\n",
    "        strata = X[self.strata_features]  # Use list here to avoid KeyError\n",
    "        return resample(\n",
    "            X, y,\n",
    "            stratify=strata.values.flatten(),\n",
    "            n_samples=int(self.sampling_strategy * len(y)),\n",
    "            random_state=self.random_state\n",
    "        )\n",
    "\n",
    "    def __repr__(self):\n",
    "        return f\"StratifiedSampler(sampling_strategy={self.sampling_strategy}, strata_features={self.strata_features}, random_state={self.random_state})\"\n",
    "\n",
    "\n",
    "class RandomSampler:\n",
    "    def __init__(self, sampling_strategy, random_state=RANDOM_STATE):\n",
    "        self.sampling_strategy = sampling_strategy\n",
    "        self.random_state = random_state\n",
    "\n",
    "    def fit_resample(self, X, y):\n",
    "        return resample(\n",
    "            X, y,\n",
    "            n_samples=int(self.sampling_strategy * len(y)),\n",
    "            random_state=self.random_state\n",
    "        )\n",
    "\n",
    "    def __repr__(self):\n",
    "        return f\"RandomSampler(sampling_strategy={self.sampling_strategy}, random_state={self.random_state})\"\n",
    "\n",
    "\n",
    "# Function to run sampling UI\n",
    "def run_sampling_ui(X, y):\n",
    "    global new_df, result_log, current_sampling, selected_features\n",
    "    new_df = None\n",
    "    selected_features = []\n",
    "    result_log = pd.DataFrame(columns=[\"Method\", \"Sampling %\", \"Original Size\", \"Resampled Size\", \n",
    "                                       \"Original Dist (Abs)\", \"Original Dist (%)\", \n",
    "                                       \"Resampled Dist (Abs)\", \"Resampled Dist (%)\"])\n",
    "\n",
    "    # Initialize current sampling method\n",
    "    current_sampling = None\n",
    "\n",
    "    # Show total features and dataset size\n",
    "    dataset_size_label = widgets.Label(f\"Dataset Size: {X.shape[0]} samples, Number of Features: {X.shape[1]}\")\n",
    "\n",
    "    # Create main buttons\n",
    "    under_sampling_button = widgets.Button(description=\"Under Sampling\", tooltip=\"Reduce the majority class samples.\")\n",
    "    over_sampling_button = widgets.Button(description=\"Over Sampling\", tooltip=\"Increase the minority class samples.\")\n",
    "    stratified_sampling_button = widgets.Button(description=\"Stratified Sampling\", tooltip=\"Sample based on strata features.\")\n",
    "    random_sampling_button = widgets.Button(description=\"Random Sampling\", tooltip=\"Randomly sample the dataset.\")\n",
    "\n",
    "    # Sampling percentage slider\n",
    "    sampling_percentage_slider = widgets.FloatSlider(description='Sampling %', min=0.1, max=1.0, step=0.1, value=1.0)\n",
    "\n",
    "    # Display area for sub buttons, output, and table\n",
    "    sub_buttons_box = widgets.VBox([])  # This will hold the sub-method buttons\n",
    "    output_box = widgets.Output()  # This will display outputs like error messages\n",
    "    table_output_box = widgets.Output()  # This will display the sampling result log table\n",
    "\n",
    "    # Function to save the sampler as a .pkl file and create new_df from selected method\n",
    "    def save_sampler(method_name, sampling_percentage):\n",
    "        global new_df\n",
    "        if method_name == \"Stratified Sampling\":\n",
    "            sampler = get_sampler(method_name, sampling_percentage, selected_features=selected_features)\n",
    "        elif method_name == \"Random Sampling\":\n",
    "            sampler = get_sampler(method_name, sampling_percentage)\n",
    "        else:\n",
    "            sampler = get_sampler(method_name, sampling_percentage)\n",
    "\n",
    "        if sampler is None:\n",
    "            with output_box:\n",
    "                clear_output(wait=True)\n",
    "                print(f\"Error: Sampler for {method_name} not found.\")\n",
    "            return\n",
    "\n",
    "        # Perform resampling using fit_resample\n",
    "        X_res, y_res = sampler.fit_resample(X, y)\n",
    "        new_df = pd.concat([pd.DataFrame(X_res), pd.Series(y_res, name='target')], axis=1)\n",
    "\n",
    "        # Save the sampler to a pickle file\n",
    "        save_path = f\"sampler_{method_name}_{int(sampling_percentage * 100)}.pkl\"\n",
    "        with open(save_path, \"wb\") as f:\n",
    "            pickle.dump(sampler, f)\n",
    "\n",
    "        with output_box:\n",
    "            clear_output(wait=True)\n",
    "            print(f\"Sampler for {method_name} at {sampling_percentage * 100:.0f}% saved as '{save_path}'.\")\n",
    "            print(\"New sampled dataset 'new_df' created for further use.\")\n",
    "\n",
    "    # Function to clear sub buttons but keep output intact\n",
    "    def clear_sub_buttons():\n",
    "        sub_buttons_box.children = []\n",
    "\n",
    "    # Function to calculate and display class distribution with percentages and absolute numbers\n",
    "    def display_distribution(y_before, y_after, method_name, sampling_percentage):\n",
    "        original_distribution = dict(zip(*np.unique(y_before, return_counts=True)))\n",
    "        resampled_distribution = dict(zip(*np.unique(y_after, return_counts=True)))\n",
    "\n",
    "        total_before = sum(original_distribution.values())\n",
    "        total_after = sum(resampled_distribution.values())\n",
    "\n",
    "        original_percentages = {k: (v / total_before) * 100 for k, v in original_distribution.items()}\n",
    "        resampled_percentages = {k: (v / total_after) * 100 for k, v in resampled_distribution.items()}\n",
    "\n",
    "        # Append the new sampling result to the result_log DataFrame\n",
    "        result_log.loc[len(result_log)] = [\n",
    "            method_name,\n",
    "            f\"{sampling_percentage * 100:.0f}%\",\n",
    "            total_before,\n",
    "            total_after,\n",
    "            str(original_distribution),\n",
    "            str({cls: f\"{pct:.2f}%\" for cls, pct in original_percentages.items()}),\n",
    "            str(resampled_distribution),\n",
    "            str({cls: f\"{pct:.2f}%\" for cls, pct in resampled_percentages.items()})\n",
    "        ]\n",
    "\n",
    "        # Display the updated result_log DataFrame in the table_output_box\n",
    "        with table_output_box:\n",
    "            clear_output(wait=True)\n",
    "            display(result_log)\n",
    "\n",
    "            # Display save buttons for each row in the result_log\n",
    "            for idx in range(len(result_log)):\n",
    "                method_name = result_log.iloc[idx][\"Method\"]\n",
    "                sampling_percentage = float(result_log.iloc[idx][\"Sampling %\"].strip('%')) / 100\n",
    "                save_button = widgets.Button(description=f\"Save {method_name} Sampler ({int(sampling_percentage * 100)}%)\")\n",
    "                save_button.on_click(lambda b, m=method_name, sp=sampling_percentage: save_sampler(m, sp))\n",
    "                display(save_button)\n",
    "\n",
    "\n",
    "    # Function to retrieve the sampler based on the method name and sampling percentage\n",
    "    def get_sampler(method_name, sampling_percentage, selected_features=None):\n",
    "        if method_name == 'Cluster Centroids':\n",
    "            return ClusterCentroids(sampling_strategy=sampling_percentage, random_state=RANDOM_STATE)\n",
    "        elif method_name == 'Near Miss':\n",
    "            return NearMiss(sampling_strategy=sampling_percentage)\n",
    "        elif method_name == 'Tomek Links':\n",
    "            return TomekLinks()\n",
    "        elif method_name == 'One-Sided Selection':\n",
    "            return OneSidedSelection(random_state=RANDOM_STATE)\n",
    "        elif method_name == 'SMOTE':\n",
    "            return SMOTE(sampling_strategy=sampling_percentage, random_state=RANDOM_STATE)\n",
    "        elif method_name == 'ADASYN':\n",
    "            return ADASYN(sampling_strategy=sampling_percentage, random_state=RANDOM_STATE)\n",
    "        elif method_name == 'Stratified Sampling' and selected_features:\n",
    "            return StratifiedSampler(sampling_strategy=sampling_percentage, strata_features=selected_features)\n",
    "        elif method_name == 'Random Sampling':\n",
    "            return RandomSampler(sampling_strategy=sampling_percentage)\n",
    "\n",
    "    # Under-sampling methods with error handling\n",
    "    def under_sampling_method(method_name, sampling_percentage):\n",
    "        try:\n",
    "            sampler = get_sampler(method_name, sampling_percentage)\n",
    "            X_res, y_res = sampler.fit_resample(X, y)\n",
    "            display_distribution(y, y_res, method_name, sampling_percentage)\n",
    "        except ValueError as e:\n",
    "            with output_box:\n",
    "                clear_output(wait=True)\n",
    "                print(f\"Error in under-sampling with {method_name}: {str(e)}\")\n",
    "                print(\"Please adjust the sampling percentage and try again.\")\n",
    "\n",
    "    # Over-sampling methods with error handling\n",
    "    def over_sampling_method(method_name, sampling_percentage):\n",
    "        try:\n",
    "            sampler = get_sampler(method_name, sampling_percentage)\n",
    "            X_res, y_res = sampler.fit_resample(X, y)\n",
    "            display_distribution(y, y_res, method_name, sampling_percentage)\n",
    "        except ValueError as e:\n",
    "            with output_box:\n",
    "                clear_output(wait=True)\n",
    "                print(f\"Error in over-sampling with {method_name}: {str(e)}\")\n",
    "                print(\"Please adjust the sampling percentage and try again.\")\n",
    "\n",
    "    # Stratified sampling method\n",
    "    def stratified_sampling_method(sampling_percentage, selected_features):\n",
    "        try:\n",
    "            # Ensure selected_features is a list of strings\n",
    "            selected_features = list(selected_features) if isinstance(selected_features, tuple) else selected_features\n",
    "\n",
    "            strata = X[selected_features]  # This will check if the features exist in X\n",
    "            print(\"Strata Features Confirmed:\", strata.columns.tolist())  # Debug: Confirm feature names\n",
    "\n",
    "            X_res, y_res = resample(\n",
    "                X, y, stratify=strata.values if len(selected_features) > 1 else strata.values.flatten(),\n",
    "                n_samples=int(sampling_percentage * len(y)), random_state=RANDOM_STATE\n",
    "            )\n",
    "            display_distribution(y, y_res, \"Stratified Sampling\", sampling_percentage)\n",
    "        except KeyError as e:\n",
    "            with output_box:\n",
    "                clear_output(wait=True)\n",
    "                print(f\"Error in stratified sampling: {str(e)}\")\n",
    "                print(\"Please adjust the feature selection and try again.\")\n",
    "\n",
    "\n",
    "    # Random sampling method\n",
    "    def random_sampling_method(sampling_percentage):\n",
    "        try:\n",
    "            sampler = get_sampler(\"Random Sampling\", sampling_percentage)\n",
    "            X_res, y_res = sampler.fit_resample(X, y)\n",
    "            display_distribution(y, y_res, \"Random Sampling\", sampling_percentage)\n",
    "        except ValueError as e:\n",
    "            with output_box:\n",
    "                clear_output(wait=True)\n",
    "                print(f\"Error in random sampling: {str(e)}\")\n",
    "                print(\"Please adjust the sampling percentage and try again.\")\n",
    "\n",
    "    # Function to handle main method selection\n",
    "    def on_main_button_clicked(button):\n",
    "        global current_sampling\n",
    "        clear_sub_buttons()\n",
    "\n",
    "        # Show the sampling percentage slider when a method is selected\n",
    "        sampling_percentage_slider.layout.display = 'inline-block'\n",
    "\n",
    "        if button.description == \"Under Sampling\":\n",
    "            current_sampling = \"Under Sampling\"\n",
    "            sub_buttons = [\n",
    "                widgets.Button(description=\"Cluster Centroids\", tooltip=\"This method reduces the majority class by selecting the most representative samples (centroids).\"),\n",
    "                widgets.Button(description=\"Near Miss\", tooltip=\"This method reduces the majority class by selecting samples closest to the minority class.\"),\n",
    "                widgets.Button(description=\"Tomek Links\", tooltip=\"This method removes overlapping majority and minority class pairs to clean the data.\"),\n",
    "                widgets.Button(description=\"One-Sided Selection\", tooltip=\"This method removes majority class samples that are easily classified, keeping only boundary cases.\")\n",
    "            ]\n",
    "            for sub_button in sub_buttons:\n",
    "                sub_button.on_click(lambda b: under_sampling_method(b.description, sampling_percentage_slider.value))\n",
    "            sub_buttons_box.children = sub_buttons\n",
    "        elif button.description == \"Over Sampling\":\n",
    "            current_sampling = \"Over Sampling\"\n",
    "            sub_buttons = [\n",
    "                widgets.Button(description=\"SMOTE\", tooltip=\"This method creates new synthetic samples for the minority class using k-nearest neighbors.\"),\n",
    "                widgets.Button(description=\"ADASYN\", tooltip=\"This method generates synthetic samples for the minority class, focusing more on difficult cases.\")\n",
    "            ]\n",
    "            for sub_button in sub_buttons:\n",
    "                sub_button.on_click(lambda b: over_sampling_method(b.description, sampling_percentage_slider.value))\n",
    "            sub_buttons_box.children = sub_buttons\n",
    "        elif button.description == \"Stratified Sampling\":\n",
    "            current_sampling = \"Stratified Sampling\"\n",
    "            strata_feature_selection = widgets.SelectMultiple(\n",
    "                options=X.columns.tolist(),\n",
    "                description=\"Select Strata Features\"\n",
    "            )\n",
    "            finalize_button = widgets.Button(description=\"Finalize Strata Features\")\n",
    "            finalize_button.on_click(lambda b: finalize_stratified_sampling(strata_feature_selection.value))\n",
    "            sub_buttons_box.children = [strata_feature_selection, finalize_button]\n",
    "        elif button.description == \"Random Sampling\":\n",
    "            current_sampling = \"Random Sampling\"\n",
    "            random_sampling_button = widgets.Button(description=\"Run Random Sampling\")\n",
    "            random_sampling_button.on_click(lambda b: random_sampling_method(sampling_percentage_slider.value))\n",
    "            sub_buttons_box.children = [random_sampling_button]\n",
    "\n",
    "            \n",
    "    # Display features for stratified sampling\n",
    "    def show_stratified_features():\n",
    "        global current_sampling\n",
    "        current_sampling = 'stratified'\n",
    "\n",
    "        # Multi-selection widget for choosing features\n",
    "        feature_selector = widgets.SelectMultiple(\n",
    "            options=X.columns.tolist(),\n",
    "            description='Select Features',\n",
    "            disabled=False\n",
    "        )\n",
    "\n",
    "        # Button to finalize the selection of features\n",
    "        finalize_button = widgets.Button(description=\"Finalize Selection\")\n",
    "\n",
    "        # Corrected line: ensure selected features are passed as a list\n",
    "        finalize_button.on_click(lambda b: stratified_sampling_method(sampling_percentage_slider.value, list(feature_selector.value)))\n",
    "\n",
    "        # Display feature selector and finalize button\n",
    "        sub_buttons_box.children = (feature_selector, finalize_button, sampling_percentage_slider)\n",
    "\n",
    "\n",
    "    # Function to finalize stratified sampling selection\n",
    "    def finalize_stratified_sampling(features):\n",
    "        global selected_features\n",
    "        selected_features = features\n",
    "        if selected_features:\n",
    "            sampling_percentage_slider.layout.display = 'inline-block'\n",
    "            stratified_sampling_run_button = widgets.Button(description=\"Run Stratified Sampling\")\n",
    "            stratified_sampling_run_button.on_click(lambda b: stratified_sampling_method(sampling_percentage_slider.value, selected_features))\n",
    "            sub_buttons_box.children = [stratified_sampling_run_button]\n",
    "\n",
    "    # Attach main button click events\n",
    "    under_sampling_button.on_click(on_main_button_clicked)\n",
    "    over_sampling_button.on_click(on_main_button_clicked)\n",
    "    stratified_sampling_button.on_click(on_main_button_clicked)\n",
    "    random_sampling_button.on_click(on_main_button_clicked)\n",
    "\n",
    "    # Arrange layout and display widgets\n",
    "    display(dataset_size_label, widgets.HBox([\n",
    "        under_sampling_button, over_sampling_button, stratified_sampling_button, random_sampling_button\n",
    "    ]), sampling_percentage_slider, sub_buttons_box, output_box, table_output_box)\n",
    "\n"
   ]
  },
  {
   "cell_type": "code",
   "execution_count": 2,
   "id": "81c14971",
   "metadata": {},
   "outputs": [
    {
     "name": "stdout",
     "output_type": "stream",
     "text": [
      "done!\n"
     ]
    }
   ],
   "source": [
    "print('done!')"
   ]
  },
  {
   "cell_type": "code",
   "execution_count": 3,
   "id": "526fa46c",
   "metadata": {},
   "outputs": [],
   "source": [
    "import pandas as pd\n",
    "import numpy as np\n",
    "from sklearn.preprocessing import LabelEncoder\n",
    "\n",
    "# Create example dataset\n",
    "X = pd.DataFrame({\n",
    "    'feature1': np.random.randn(1000),\n",
    "    'feature2': np.random.choice(['A', 'B', 'C'], 1000),\n",
    "    'feature3': np.random.rand(1000)\n",
    "})\n",
    "y = np.random.choice([0, 1], size=1000, p=[0.9, 0.1])\n",
    "\n",
    "# Initialize the LabelEncoder\n",
    "label_encoder = LabelEncoder()\n",
    "\n",
    "# Apply label encoding to the categorical feature\n",
    "X['feature2'] = label_encoder.fit_transform(X['feature2'])\n",
    "\n",
    "y = pd.Series(y, name='target')"
   ]
  },
  {
   "cell_type": "code",
   "execution_count": 4,
   "id": "fb496eac",
   "metadata": {},
   "outputs": [],
   "source": [
    "# from sklearn.datasets import make_classification\n",
    "# # Example usage with the dataset\n",
    "# X, y = make_classification(n_samples=1000, n_features=20, n_classes=2, weights=[0.9, 0.1], random_state=42)\n",
    "# X = pd.DataFrame(X, columns=[f'feature_{i}' for i in range(20)])\n",
    "# y = pd.Series(y, name='target')"
   ]
  },
  {
   "cell_type": "code",
   "execution_count": 5,
   "id": "36281bde",
   "metadata": {},
   "outputs": [
    {
     "data": {
      "application/vnd.jupyter.widget-view+json": {
       "model_id": "46bae17a387147f7ae8a6f430c3c1c66",
       "version_major": 2,
       "version_minor": 0
      },
      "text/plain": [
       "Label(value='Dataset Size: 1000 samples, Number of Features: 3')"
      ]
     },
     "metadata": {},
     "output_type": "display_data"
    },
    {
     "data": {
      "application/vnd.jupyter.widget-view+json": {
       "model_id": "0518c7e69d8c4db88e603abe38b34d7b",
       "version_major": 2,
       "version_minor": 0
      },
      "text/plain": [
       "HBox(children=(Button(description='Under Sampling', style=ButtonStyle(), tooltip='Reduce the majority class sa…"
      ]
     },
     "metadata": {},
     "output_type": "display_data"
    },
    {
     "data": {
      "application/vnd.jupyter.widget-view+json": {
       "model_id": "01866f7cee2e48f5925b00082f92b2be",
       "version_major": 2,
       "version_minor": 0
      },
      "text/plain": [
       "FloatSlider(value=1.0, description='Sampling %', max=1.0, min=0.1)"
      ]
     },
     "metadata": {},
     "output_type": "display_data"
    },
    {
     "data": {
      "application/vnd.jupyter.widget-view+json": {
       "model_id": "8a1d6153befa425890c31baee7a383ea",
       "version_major": 2,
       "version_minor": 0
      },
      "text/plain": [
       "VBox()"
      ]
     },
     "metadata": {},
     "output_type": "display_data"
    },
    {
     "data": {
      "application/vnd.jupyter.widget-view+json": {
       "model_id": "4a917025012843bab7f58584f6b6ef30",
       "version_major": 2,
       "version_minor": 0
      },
      "text/plain": [
       "Output()"
      ]
     },
     "metadata": {},
     "output_type": "display_data"
    },
    {
     "data": {
      "application/vnd.jupyter.widget-view+json": {
       "model_id": "f5c74bd5db964062bad2c80b2e731dda",
       "version_major": 2,
       "version_minor": 0
      },
      "text/plain": [
       "Output()"
      ]
     },
     "metadata": {},
     "output_type": "display_data"
    },
    {
     "name": "stdout",
     "output_type": "stream",
     "text": [
      "Strata Features Confirmed: ['feature2']\n"
     ]
    }
   ],
   "source": [
    "# Call the function to run the sampling UI\n",
    "run_sampling_ui(X, y)"
   ]
  },
  {
   "cell_type": "code",
   "execution_count": 7,
   "id": "26493eb3",
   "metadata": {},
   "outputs": [
    {
     "data": {
      "text/plain": [
       "(700, 4)"
      ]
     },
     "execution_count": 7,
     "metadata": {},
     "output_type": "execute_result"
    }
   ],
   "source": [
    "new_df.shape"
   ]
  },
  {
   "cell_type": "code",
   "execution_count": 8,
   "id": "454b56da",
   "metadata": {},
   "outputs": [],
   "source": [
    "import joblib"
   ]
  },
  {
   "cell_type": "code",
   "execution_count": 11,
   "id": "338039e8",
   "metadata": {},
   "outputs": [],
   "source": [
    "saved_sampler = joblib.load('sampler_Tomek Links_70.pkl')"
   ]
  },
  {
   "cell_type": "code",
   "execution_count": 12,
   "id": "b7a6cbaf",
   "metadata": {},
   "outputs": [
    {
     "data": {
      "text/html": [
       "<style>#sk-container-id-1 {color: black;}#sk-container-id-1 pre{padding: 0;}#sk-container-id-1 div.sk-toggleable {background-color: white;}#sk-container-id-1 label.sk-toggleable__label {cursor: pointer;display: block;width: 100%;margin-bottom: 0;padding: 0.3em;box-sizing: border-box;text-align: center;}#sk-container-id-1 label.sk-toggleable__label-arrow:before {content: \"▸\";float: left;margin-right: 0.25em;color: #696969;}#sk-container-id-1 label.sk-toggleable__label-arrow:hover:before {color: black;}#sk-container-id-1 div.sk-estimator:hover label.sk-toggleable__label-arrow:before {color: black;}#sk-container-id-1 div.sk-toggleable__content {max-height: 0;max-width: 0;overflow: hidden;text-align: left;background-color: #f0f8ff;}#sk-container-id-1 div.sk-toggleable__content pre {margin: 0.2em;color: black;border-radius: 0.25em;background-color: #f0f8ff;}#sk-container-id-1 input.sk-toggleable__control:checked~div.sk-toggleable__content {max-height: 200px;max-width: 100%;overflow: auto;}#sk-container-id-1 input.sk-toggleable__control:checked~label.sk-toggleable__label-arrow:before {content: \"▾\";}#sk-container-id-1 div.sk-estimator input.sk-toggleable__control:checked~label.sk-toggleable__label {background-color: #d4ebff;}#sk-container-id-1 div.sk-label input.sk-toggleable__control:checked~label.sk-toggleable__label {background-color: #d4ebff;}#sk-container-id-1 input.sk-hidden--visually {border: 0;clip: rect(1px 1px 1px 1px);clip: rect(1px, 1px, 1px, 1px);height: 1px;margin: -1px;overflow: hidden;padding: 0;position: absolute;width: 1px;}#sk-container-id-1 div.sk-estimator {font-family: monospace;background-color: #f0f8ff;border: 1px dotted black;border-radius: 0.25em;box-sizing: border-box;margin-bottom: 0.5em;}#sk-container-id-1 div.sk-estimator:hover {background-color: #d4ebff;}#sk-container-id-1 div.sk-parallel-item::after {content: \"\";width: 100%;border-bottom: 1px solid gray;flex-grow: 1;}#sk-container-id-1 div.sk-label:hover label.sk-toggleable__label {background-color: #d4ebff;}#sk-container-id-1 div.sk-serial::before {content: \"\";position: absolute;border-left: 1px solid gray;box-sizing: border-box;top: 0;bottom: 0;left: 50%;z-index: 0;}#sk-container-id-1 div.sk-serial {display: flex;flex-direction: column;align-items: center;background-color: white;padding-right: 0.2em;padding-left: 0.2em;position: relative;}#sk-container-id-1 div.sk-item {position: relative;z-index: 1;}#sk-container-id-1 div.sk-parallel {display: flex;align-items: stretch;justify-content: center;background-color: white;position: relative;}#sk-container-id-1 div.sk-item::before, #sk-container-id-1 div.sk-parallel-item::before {content: \"\";position: absolute;border-left: 1px solid gray;box-sizing: border-box;top: 0;bottom: 0;left: 50%;z-index: -1;}#sk-container-id-1 div.sk-parallel-item {display: flex;flex-direction: column;z-index: 1;position: relative;background-color: white;}#sk-container-id-1 div.sk-parallel-item:first-child::after {align-self: flex-end;width: 50%;}#sk-container-id-1 div.sk-parallel-item:last-child::after {align-self: flex-start;width: 50%;}#sk-container-id-1 div.sk-parallel-item:only-child::after {width: 0;}#sk-container-id-1 div.sk-dashed-wrapped {border: 1px dashed gray;margin: 0 0.4em 0.5em 0.4em;box-sizing: border-box;padding-bottom: 0.4em;background-color: white;}#sk-container-id-1 div.sk-label label {font-family: monospace;font-weight: bold;display: inline-block;line-height: 1.2em;}#sk-container-id-1 div.sk-label-container {text-align: center;}#sk-container-id-1 div.sk-container {/* jupyter's `normalize.less` sets `[hidden] { display: none; }` but bootstrap.min.css set `[hidden] { display: none !important; }` so we also need the `!important` here to be able to override the default hidden behavior on the sphinx rendered scikit-learn.org. See: https://github.com/scikit-learn/scikit-learn/issues/21755 */display: inline-block !important;position: relative;}#sk-container-id-1 div.sk-text-repr-fallback {display: none;}</style><div id=\"sk-container-id-1\" class=\"sk-top-container\"><div class=\"sk-text-repr-fallback\"><pre>TomekLinks()</pre><b>In a Jupyter environment, please rerun this cell to show the HTML representation or trust the notebook. <br />On GitHub, the HTML representation is unable to render, please try loading this page with nbviewer.org.</b></div><div class=\"sk-container\" hidden><div class=\"sk-item\"><div class=\"sk-estimator sk-toggleable\"><input class=\"sk-toggleable__control sk-hidden--visually\" id=\"sk-estimator-id-1\" type=\"checkbox\" checked><label for=\"sk-estimator-id-1\" class=\"sk-toggleable__label sk-toggleable__label-arrow\">TomekLinks</label><div class=\"sk-toggleable__content\"><pre>TomekLinks()</pre></div></div></div></div></div>"
      ],
      "text/plain": [
       "TomekLinks()"
      ]
     },
     "execution_count": 12,
     "metadata": {},
     "output_type": "execute_result"
    }
   ],
   "source": [
    "saved_sampler"
   ]
  },
  {
   "cell_type": "code",
   "execution_count": 10,
   "id": "f105e109",
   "metadata": {},
   "outputs": [],
   "source": [
    "X_new = X  # Your new feature dataset\n",
    "y_new = y  # Your new target labels\n",
    "\n",
    "# Resample the new data\n",
    "X_resampled, y_resampled = saved_sampler.fit_resample(X_new, y_new)"
   ]
  },
  {
   "cell_type": "code",
   "execution_count": 11,
   "id": "7ef8daf8",
   "metadata": {},
   "outputs": [
    {
     "data": {
      "text/plain": [
       "((600, 3), (600,))"
      ]
     },
     "execution_count": 11,
     "metadata": {},
     "output_type": "execute_result"
    }
   ],
   "source": [
    "X_resampled.shape, y_resampled.shape"
   ]
  },
  {
   "cell_type": "code",
   "execution_count": null,
   "id": "1dd2b861",
   "metadata": {},
   "outputs": [],
   "source": []
  },
  {
   "cell_type": "code",
   "execution_count": null,
   "id": "1e9ee111",
   "metadata": {},
   "outputs": [],
   "source": []
  }
 ],
 "metadata": {
  "kernelspec": {
   "display_name": "Python 3",
   "language": "python",
   "name": "python3"
  },
  "language_info": {
   "codemirror_mode": {
    "name": "ipython",
    "version": 3
   },
   "file_extension": ".py",
   "mimetype": "text/x-python",
   "name": "python",
   "nbconvert_exporter": "python",
   "pygments_lexer": "ipython3",
   "version": "3.8.8"
  }
 },
 "nbformat": 4,
 "nbformat_minor": 5
}
